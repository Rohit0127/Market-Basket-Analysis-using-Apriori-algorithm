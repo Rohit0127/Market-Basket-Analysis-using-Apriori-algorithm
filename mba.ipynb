{
  "nbformat": 4,
  "nbformat_minor": 0,
  "metadata": {
    "colab": {
      "name": "DA_Lab_2.ipynb",
      "provenance": [],
      "collapsed_sections": []
    },
    "kernelspec": {
      "name": "python3",
      "display_name": "Python 3"
    },
    "language_info": {
      "name": "python"
    }
  },
  "cells": [
    {
      "cell_type": "code",
      "execution_count": null,
      "metadata": {
        "id": "tNFErR7PVeGr"
      },
      "outputs": [],
      "source": [
        "import math\n",
        "from itertools import combinations"
      ]
    },
    {
      "cell_type": "code",
      "source": [
        "# Function to read the given file and convert to suitable format\n",
        "# This functions returns a list of transactions, where every transation is again\n",
        "# represented as a list of items\n",
        "def read_file(file):\n",
        "    data = open(file,\"r\")\n",
        "    table = data.readlines() \n",
        "    data.close()\n",
        "    transactions = []\n",
        "    for line in table:\n",
        "        line = line.strip(\",\\n\").split(\",\")\n",
        "        line = sorted(line)\n",
        "        transactions.append(line)\n",
        "    return transactions"
      ],
      "metadata": {
        "id": "D_HLVasOUHna"
      },
      "execution_count": null,
      "outputs": []
    },
    {
      "cell_type": "code",
      "source": [
        "# Function to count the number of occurences of a given itemset in transactions\n",
        "def get_itemset_count(itemset, transactions):\n",
        "    count = 0\n",
        "    for i in range(len(transactions)):\n",
        "        if set(itemset).issubset(set(transactions[i])):\n",
        "            count += 1\n",
        "    return count"
      ],
      "metadata": {
        "id": "PUyaHBPS7oeu"
      },
      "execution_count": null,
      "outputs": []
    },
    {
      "cell_type": "code",
      "source": [
        "# Function to generate all possible candidate itemsets Ck, by joining each itemset\n",
        "# of Lk-1\n",
        "def generate_candidate_itemsets(itemsets):\n",
        "    candidate_itemsets = []\n",
        "    for i in range(len(itemsets)):\n",
        "        for j in range(i+1, len(itemsets)):\n",
        "            item1 = itemsets[i]\n",
        "            item2 = itemsets[j]\n",
        "            n = len(item1)\n",
        "            is_joinable = True\n",
        "            # 2 items of length n can be joined if their n-1 elements are same\n",
        "            # and the nth element of item1 is less than that of item2\n",
        "            for k in range(n-1):\n",
        "                if item1[k] != item2[k]:\n",
        "                    is_joinable = False\n",
        "                    break\n",
        "            if is_joinable and (item1[n-1] < item2[n-1]):\n",
        "                # item has n+1 elements\n",
        "                item = item1 + item2[n-1].split(\",\")\n",
        "                candidate_itemsets.append(item)\n",
        "    return candidate_itemsets"
      ],
      "metadata": {
        "id": "60T3WRwQHyZi"
      },
      "execution_count": null,
      "outputs": []
    },
    {
      "cell_type": "code",
      "source": [
        "# function to find all frequent itemsets, for a given candidate set\n",
        "# after pruning and comparing with min support count\n",
        "def find_frequent_itemsets(itemsets, transactions, min_sup_count, pruned_itemsets):\n",
        "    freq_item = [] #  List containing newly added frequent itemset\n",
        "    sup_count = [] # List containing the corresponding support count of the added itemset\n",
        "    new_pruned_itemsets = [] # used to keep account of itemsets removed because of less support count\n",
        "    n = len(pruned_itemsets.keys())\n",
        "    for item in itemsets:\n",
        "        already_pruned = False\n",
        "        for pruned_item in pruned_itemsets[n]: # check if the item is superset of any already pruned item\n",
        "            if set(pruned_item).issubset(set(item)):\n",
        "                already_prued = True # If yes, then this item will not be added to frequent itemset\n",
        "                break\n",
        "        if already_pruned == False:\n",
        "            count = get_itemset_count(item, transactions)\n",
        "            if count >= min_sup_count: \n",
        "                freq_item.append(item)\n",
        "                sup_count.append(count)\n",
        "            else:\n",
        "                new_pruned_itemsets.append(item) # If support count of itemset is less than min, \n",
        "                                                 # then add it to pruned items\n",
        "\n",
        "    return freq_item, sup_count, new_pruned_itemsets"
      ],
      "metadata": {
        "id": "DkJMa-_A96Kq"
      },
      "execution_count": null,
      "outputs": []
    },
    {
      "cell_type": "code",
      "source": [
        "def apriori(transactions, min_sup):\n",
        "    # In C,L, pruned_itemsets, and sup_count, the number of items in the itemset is the key\n",
        "    unique_items = set() \n",
        "    k = 1\n",
        "\n",
        "    C = {} # Dictionary where C[k] is the list of candidate itemsets with k items\n",
        "    L = {} # Dictionary where L[k] is the list of frequent-k itemsets\n",
        "    sup_count = {} # Dictionary where sup_count[k] is list of support count of itemsets in L[k]\n",
        "    pruned_itemsets = {k : []} # Dictionary where pruned_itemsets[k] is the itemsets prumed from C[k]\n",
        "\n",
        "    min_sup_count = math.ceil((min_sup/100) * len(transactions))\n",
        "\n",
        "    # Finding all the unique items in the database\n",
        "    for i in range(len(transactions)):\n",
        "        for item in transactions[i]:\n",
        "            unique_items.add(item)\n",
        "\n",
        "    C.update({k : [ [i] for i in sorted(list(unique_items))]}) # C[1] contains all unique database elements\n",
        "    print(\"C[1] : \",C[k])\n",
        "\n",
        "    while True:\n",
        "        if k > 1:\n",
        "            C[k] = generate_candidate_itemsets(L[k-1])\n",
        "        freq_item, item_count, new_pruned_items = find_frequent_itemsets(C[k], transactions, min_sup_count, pruned_itemsets)\n",
        "        if(len(freq_item) == 0):\n",
        "            break # If the frequent itemset generated has no items, then stop the process\n",
        "        L[k] = freq_item\n",
        "        sup_count[k] = item_count\n",
        "        pruned_itemsets[k] = new_pruned_items\n",
        "        k += 1\n",
        "\n",
        "    return L, C, sup_count"
      ],
      "metadata": {
        "id": "jYuZkZ_GPuae"
      },
      "execution_count": null,
      "outputs": []
    },
    {
      "cell_type": "code",
      "source": [
        "# Function to generate all proper subsets of given itemset\n",
        "def generate_subsets(itemset):\n",
        "    subsets = []\n",
        "    for i in range(1,len(itemset)):\n",
        "        items = list(combinations(itemset,i))\n",
        "        for item in items:\n",
        "            subsets.append(sorted(list(item)))\n",
        "    \n",
        "    return subsets\n"
      ],
      "metadata": {
        "id": "PHRNAlxZzwHq"
      },
      "execution_count": null,
      "outputs": []
    },
    {
      "cell_type": "code",
      "source": [
        "# Generating all possible associations from the available itemsets and finding strong associations\n",
        "def generate_association_rules(L, sup_count, min_confidence):\n",
        "    association_rules = []\n",
        "    for j in range(2,len(L.keys())+1):\n",
        "        for i in range(len(L[j])):\n",
        "            s = L[j][i]\n",
        "            s_sup = sup_count[j][i]\n",
        "            P = generate_subsets(s)\n",
        "            for subset in P:\n",
        "            # print(subset)\n",
        "                S = set(s)\n",
        "                I = set(subset)\n",
        "                I_key = len(I)\n",
        "                D = set(S - I)\n",
        "                I_index = L[I_key].index(sorted(list(I)))\n",
        "                confidence = (s_sup / sup_count[I_key][I_index])\n",
        "                if confidence >= (min_confidence/100):\n",
        "                    #print(I,D,confidence)\n",
        "                    rule = str(I) + \"-->\" + str(D) + \" Confidence :\" + str(confidence)\n",
        "                    #print(rule)\n",
        "                    association_rules.append(rule)\n",
        "    return association_rules"
      ],
      "metadata": {
        "id": "7k9AlE4m0Tsj"
      },
      "execution_count": null,
      "outputs": []
    },
    {
      "cell_type": "code",
      "source": [
        "transactions = read_file(\"store_data.csv\")\n",
        "print(len(transactions))"
      ],
      "metadata": {
        "colab": {
          "base_uri": "https://localhost:8080/"
        },
        "id": "9NTZQcnYdNdz",
        "outputId": "cd3f7ee4-d064-4885-cc7c-66f3947936e0"
      },
      "execution_count": null,
      "outputs": [
        {
          "output_type": "stream",
          "name": "stdout",
          "text": [
            "7501\n"
          ]
        }
      ]
    },
    {
      "cell_type": "code",
      "source": [
        "for i in range(10):\n",
        "    print(transactions[i])"
      ],
      "metadata": {
        "colab": {
          "base_uri": "https://localhost:8080/"
        },
        "id": "4KcJZm3-PDaL",
        "outputId": "4c3758b6-abd0-4c55-a722-b591a1402cc4"
      },
      "execution_count": null,
      "outputs": [
        {
          "output_type": "stream",
          "name": "stdout",
          "text": [
            "['almonds', 'antioxydant juice', 'avocado', 'cottage cheese', 'energy drink', 'frozen smoothie', 'green grapes', 'green tea', 'honey', 'low fat yogurt', 'mineral water', 'olive oil', 'salad', 'salmon', 'shrimp', 'spinach', 'tomato juice', 'vegetables mix', 'whole weat flour', 'yams']\n",
            "['burgers', 'eggs', 'meatballs']\n",
            "['chutney']\n",
            "['avocado', 'turkey']\n",
            "['energy bar', 'green tea', 'milk', 'mineral water', 'whole wheat rice']\n",
            "['low fat yogurt']\n",
            "['french fries', 'whole wheat pasta']\n",
            "['light cream', 'shallot', 'soup']\n",
            "['frozen vegetables', 'green tea', 'spaghetti']\n",
            "['french fries']\n"
          ]
        }
      ]
    },
    {
      "cell_type": "markdown",
      "source": [
        "# minimum support = 4%, minimum confidence = 40%"
      ],
      "metadata": {
        "id": "la-MnblON__r"
      }
    },
    {
      "cell_type": "code",
      "source": [
        "min_sup = 4\n",
        "L, C, sup_count = apriori(transactions, min_sup)"
      ],
      "metadata": {
        "id": "lZWaNxUcbgNR",
        "colab": {
          "base_uri": "https://localhost:8080/"
        },
        "outputId": "62c9eedb-d8e2-49f8-b035-163b9739c401"
      },
      "execution_count": null,
      "outputs": [
        {
          "output_type": "stream",
          "name": "stdout",
          "text": [
            "C[1] :  [['almonds'], ['antioxydant juice'], ['asparagus'], ['avocado'], ['babies food'], ['bacon'], ['barbecue sauce'], ['black tea'], ['blueberries'], ['body spray'], ['bramble'], ['brownies'], ['bug spray'], ['burger sauce'], ['burgers'], ['butter'], ['cake'], ['candy bars'], ['carrots'], ['cauliflower'], ['cereals'], ['champagne'], ['chicken'], ['chili'], ['chocolate'], ['chocolate bread'], ['chutney'], ['cider'], ['clothes accessories'], ['cookies'], ['cooking oil'], ['corn'], ['cottage cheese'], ['cream'], ['dessert wine'], ['eggplant'], ['eggs'], ['energy bar'], ['energy drink'], ['escalope'], ['extra dark chocolate'], ['flax seed'], ['french fries'], ['french wine'], ['fresh bread'], ['fresh tuna'], ['fromage blanc'], ['frozen smoothie'], ['frozen vegetables'], ['gluten free bar'], ['grated cheese'], ['green beans'], ['green grapes'], ['green tea'], ['ground beef'], ['gums'], ['ham'], ['hand protein bar'], ['herb & pepper'], ['honey'], ['hot dogs'], ['ketchup'], ['light cream'], ['light mayo'], ['low fat yogurt'], ['magazines'], ['mashed potato'], ['mayonnaise'], ['meatballs'], ['melons'], ['milk'], ['mineral water'], ['mint'], ['mint green tea'], ['muffins'], ['mushroom cream sauce'], ['napkins'], ['nonfat milk'], ['oatmeal'], ['oil'], ['olive oil'], ['pancakes'], ['parmesan cheese'], ['pasta'], ['pepper'], ['pet food'], ['pickles'], ['protein bar'], ['red wine'], ['rice'], ['salad'], ['salmon'], ['salt'], ['sandwich'], ['shallot'], ['shampoo'], ['shrimp'], ['soda'], ['soup'], ['spaghetti'], ['sparkling water'], ['spinach'], ['strawberries'], ['strong cheese'], ['tea'], ['tomato juice'], ['tomato sauce'], ['tomatoes'], ['toothpaste'], ['turkey'], ['vegetables mix'], ['water spray'], ['white wine'], ['whole weat flour'], ['whole wheat pasta'], ['whole wheat rice'], ['yams'], ['yogurt cake'], ['zucchini']]\n"
          ]
        }
      ]
    },
    {
      "cell_type": "code",
      "source": [
        "for key in L.keys():\n",
        "    print(\"L{k}\".format(k=key))\n",
        "    for i in range(len(L[key])):\n",
        "        print(L[key][i],sup_count[key][i])"
      ],
      "metadata": {
        "colab": {
          "base_uri": "https://localhost:8080/"
        },
        "id": "5taBSsIkRqN7",
        "outputId": "da018001-5f59-4434-d4fa-ea85d57b220c"
      },
      "execution_count": null,
      "outputs": [
        {
          "output_type": "stream",
          "name": "stdout",
          "text": [
            "L1\n",
            "['burgers'] 654\n",
            "['cake'] 608\n",
            "['champagne'] 351\n",
            "['chicken'] 450\n",
            "['chocolate'] 1229\n",
            "['cookies'] 603\n",
            "['cooking oil'] 383\n",
            "['eggs'] 1348\n",
            "['escalope'] 595\n",
            "['french fries'] 1282\n",
            "['fresh bread'] 323\n",
            "['frozen smoothie'] 475\n",
            "['frozen vegetables'] 715\n",
            "['grated cheese'] 393\n",
            "['green tea'] 991\n",
            "['ground beef'] 737\n",
            "['herb & pepper'] 371\n",
            "['honey'] 356\n",
            "['low fat yogurt'] 574\n",
            "['milk'] 972\n",
            "['mineral water'] 1788\n",
            "['olive oil'] 494\n",
            "['pancakes'] 713\n",
            "['salmon'] 319\n",
            "['shrimp'] 536\n",
            "['soup'] 379\n",
            "['spaghetti'] 1306\n",
            "['tomatoes'] 513\n",
            "['turkey'] 469\n",
            "['whole wheat rice'] 439\n",
            "L2\n",
            "['chocolate', 'mineral water'] 395\n",
            "['eggs', 'mineral water'] 382\n",
            "['ground beef', 'mineral water'] 307\n",
            "['milk', 'mineral water'] 360\n",
            "['mineral water', 'spaghetti'] 448\n"
          ]
        }
      ]
    },
    {
      "cell_type": "code",
      "source": [
        "min_conf = 40\n",
        "association_rules = generate_association_rules(L, sup_count, min_conf)"
      ],
      "metadata": {
        "id": "gS9OUfRNU-RO"
      },
      "execution_count": null,
      "outputs": []
    },
    {
      "cell_type": "code",
      "source": [
        "print(\"Minimun support = {a}%, minimum confidence = {b}%\".format(a=min_sup,b=min_conf))\n",
        "print(\"Number of association rules is : \",len(association_rules))\n",
        "for rule in association_rules:\n",
        "    print(rule)"
      ],
      "metadata": {
        "colab": {
          "base_uri": "https://localhost:8080/"
        },
        "id": "bQ1hyoB5efMJ",
        "outputId": "94c4933d-8d0e-4091-a5f0-4da56290ef51"
      },
      "execution_count": null,
      "outputs": [
        {
          "output_type": "stream",
          "name": "stdout",
          "text": [
            "Minimun support = 4%, minimum confidence = 40%\n",
            "Number of association rules is :  1\n",
            "{'ground beef'}-->{'mineral water'} Confidence :0.41655359565807326\n"
          ]
        }
      ]
    },
    {
      "cell_type": "markdown",
      "source": [
        "# minimum support = 0.4%, minimum confidence = 55%"
      ],
      "metadata": {
        "id": "v10weXTzQOyC"
      }
    },
    {
      "cell_type": "code",
      "source": [
        "min_sup = 0.4\n",
        "L, C, sup_count = apriori(transactions, min_sup)"
      ],
      "metadata": {
        "id": "07STDof-emGY",
        "colab": {
          "base_uri": "https://localhost:8080/"
        },
        "outputId": "15daac0e-adaf-40a4-b37e-b1cb600134a6"
      },
      "execution_count": null,
      "outputs": [
        {
          "output_type": "stream",
          "name": "stdout",
          "text": [
            "C[1] :  [['almonds'], ['antioxydant juice'], ['asparagus'], ['avocado'], ['babies food'], ['bacon'], ['barbecue sauce'], ['black tea'], ['blueberries'], ['body spray'], ['bramble'], ['brownies'], ['bug spray'], ['burger sauce'], ['burgers'], ['butter'], ['cake'], ['candy bars'], ['carrots'], ['cauliflower'], ['cereals'], ['champagne'], ['chicken'], ['chili'], ['chocolate'], ['chocolate bread'], ['chutney'], ['cider'], ['clothes accessories'], ['cookies'], ['cooking oil'], ['corn'], ['cottage cheese'], ['cream'], ['dessert wine'], ['eggplant'], ['eggs'], ['energy bar'], ['energy drink'], ['escalope'], ['extra dark chocolate'], ['flax seed'], ['french fries'], ['french wine'], ['fresh bread'], ['fresh tuna'], ['fromage blanc'], ['frozen smoothie'], ['frozen vegetables'], ['gluten free bar'], ['grated cheese'], ['green beans'], ['green grapes'], ['green tea'], ['ground beef'], ['gums'], ['ham'], ['hand protein bar'], ['herb & pepper'], ['honey'], ['hot dogs'], ['ketchup'], ['light cream'], ['light mayo'], ['low fat yogurt'], ['magazines'], ['mashed potato'], ['mayonnaise'], ['meatballs'], ['melons'], ['milk'], ['mineral water'], ['mint'], ['mint green tea'], ['muffins'], ['mushroom cream sauce'], ['napkins'], ['nonfat milk'], ['oatmeal'], ['oil'], ['olive oil'], ['pancakes'], ['parmesan cheese'], ['pasta'], ['pepper'], ['pet food'], ['pickles'], ['protein bar'], ['red wine'], ['rice'], ['salad'], ['salmon'], ['salt'], ['sandwich'], ['shallot'], ['shampoo'], ['shrimp'], ['soda'], ['soup'], ['spaghetti'], ['sparkling water'], ['spinach'], ['strawberries'], ['strong cheese'], ['tea'], ['tomato juice'], ['tomato sauce'], ['tomatoes'], ['toothpaste'], ['turkey'], ['vegetables mix'], ['water spray'], ['white wine'], ['whole weat flour'], ['whole wheat pasta'], ['whole wheat rice'], ['yams'], ['yogurt cake'], ['zucchini']]\n"
          ]
        }
      ]
    },
    {
      "cell_type": "code",
      "source": [
        "for key in L.keys():\n",
        "    print(L[key])"
      ],
      "metadata": {
        "colab": {
          "base_uri": "https://localhost:8080/"
        },
        "id": "EOpuBWZFRYdA",
        "outputId": "ffaa114c-daa5-44e9-96e6-b2e7e6e490fc"
      },
      "execution_count": null,
      "outputs": [
        {
          "output_type": "stream",
          "name": "stdout",
          "text": [
            "[['almonds'], ['antioxydant juice'], ['asparagus'], ['avocado'], ['babies food'], ['bacon'], ['barbecue sauce'], ['black tea'], ['blueberries'], ['body spray'], ['brownies'], ['bug spray'], ['burger sauce'], ['burgers'], ['butter'], ['cake'], ['candy bars'], ['carrots'], ['cauliflower'], ['cereals'], ['champagne'], ['chicken'], ['chili'], ['chocolate'], ['chocolate bread'], ['chutney'], ['cider'], ['clothes accessories'], ['cookies'], ['cooking oil'], ['corn'], ['cottage cheese'], ['dessert wine'], ['eggplant'], ['eggs'], ['energy bar'], ['energy drink'], ['escalope'], ['extra dark chocolate'], ['flax seed'], ['french fries'], ['french wine'], ['fresh bread'], ['fresh tuna'], ['fromage blanc'], ['frozen smoothie'], ['frozen vegetables'], ['gluten free bar'], ['grated cheese'], ['green beans'], ['green grapes'], ['green tea'], ['ground beef'], ['gums'], ['ham'], ['hand protein bar'], ['herb & pepper'], ['honey'], ['hot dogs'], ['ketchup'], ['light cream'], ['light mayo'], ['low fat yogurt'], ['magazines'], ['mashed potato'], ['mayonnaise'], ['meatballs'], ['melons'], ['milk'], ['mineral water'], ['mint'], ['mint green tea'], ['muffins'], ['mushroom cream sauce'], ['nonfat milk'], ['oatmeal'], ['oil'], ['olive oil'], ['pancakes'], ['parmesan cheese'], ['pasta'], ['pepper'], ['pet food'], ['pickles'], ['protein bar'], ['red wine'], ['rice'], ['salad'], ['salmon'], ['salt'], ['sandwich'], ['shallot'], ['shampoo'], ['shrimp'], ['soda'], ['soup'], ['spaghetti'], ['sparkling water'], ['spinach'], ['strawberries'], ['strong cheese'], ['tomato juice'], ['tomato sauce'], ['tomatoes'], ['toothpaste'], ['turkey'], ['vegetables mix'], ['white wine'], ['whole weat flour'], ['whole wheat pasta'], ['whole wheat rice'], ['yams'], ['yogurt cake'], ['zucchini']]\n",
            "[['almonds', 'burgers'], ['almonds', 'chocolate'], ['almonds', 'eggs'], ['almonds', 'french fries'], ['almonds', 'green tea'], ['almonds', 'milk'], ['almonds', 'mineral water'], ['almonds', 'spaghetti'], ['avocado', 'burgers'], ['avocado', 'cake'], ['avocado', 'chocolate'], ['avocado', 'eggs'], ['avocado', 'french fries'], ['avocado', 'frozen smoothie'], ['avocado', 'frozen vegetables'], ['avocado', 'green tea'], ['avocado', 'milk'], ['avocado', 'mineral water'], ['avocado', 'pancakes'], ['avocado', 'soup'], ['avocado', 'spaghetti'], ['black tea', 'eggs'], ['black tea', 'milk'], ['black tea', 'mineral water'], ['black tea', 'spaghetti'], ['body spray', 'french fries'], ['body spray', 'mineral water'], ['brownies', 'cake'], ['brownies', 'chocolate'], ['brownies', 'eggs'], ['brownies', 'french fries'], ['brownies', 'frozen vegetables'], ['brownies', 'green tea'], ['brownies', 'ground beef'], ['brownies', 'milk'], ['brownies', 'mineral water'], ['brownies', 'pancakes'], ['brownies', 'spaghetti'], ['burgers', 'cake'], ['burgers', 'chicken'], ['burgers', 'chocolate'], ['burgers', 'cookies'], ['burgers', 'cooking oil'], ['burgers', 'eggs'], ['burgers', 'escalope'], ['burgers', 'french fries'], ['burgers', 'french wine'], ['burgers', 'frozen smoothie'], ['burgers', 'frozen vegetables'], ['burgers', 'grated cheese'], ['burgers', 'green tea'], ['burgers', 'ground beef'], ['burgers', 'ham'], ['burgers', 'herb & pepper'], ['burgers', 'honey'], ['burgers', 'low fat yogurt'], ['burgers', 'milk'], ['burgers', 'mineral water'], ['burgers', 'olive oil'], ['burgers', 'pancakes'], ['burgers', 'salmon'], ['burgers', 'shrimp'], ['burgers', 'soup'], ['burgers', 'spaghetti'], ['burgers', 'tomatoes'], ['burgers', 'turkey'], ['burgers', 'whole wheat rice'], ['butter', 'chicken'], ['butter', 'chocolate'], ['butter', 'eggs'], ['butter', 'french fries'], ['butter', 'green tea'], ['butter', 'low fat yogurt'], ['butter', 'milk'], ['butter', 'pancakes'], ['butter', 'spaghetti'], ['cake', 'chicken'], ['cake', 'chocolate'], ['cake', 'cooking oil'], ['cake', 'cottage cheese'], ['cake', 'eggs'], ['cake', 'escalope'], ['cake', 'french fries'], ['cake', 'fresh bread'], ['cake', 'frozen smoothie'], ['cake', 'frozen vegetables'], ['cake', 'grated cheese'], ['cake', 'green tea'], ['cake', 'ground beef'], ['cake', 'herb & pepper'], ['cake', 'honey'], ['cake', 'low fat yogurt'], ['cake', 'milk'], ['cake', 'mineral water'], ['cake', 'olive oil'], ['cake', 'pancakes'], ['cake', 'shrimp'], ['cake', 'soup'], ['cake', 'spaghetti'], ['cake', 'tomatoes'], ['cake', 'turkey'], ['cake', 'whole wheat rice'], ['carrots', 'mineral water'], ['carrots', 'spaghetti'], ['cereals', 'chocolate'], ['cereals', 'french fries'], ['cereals', 'frozen vegetables'], ['cereals', 'green tea'], ['cereals', 'ground beef'], ['cereals', 'milk'], ['cereals', 'mineral water'], ['cereals', 'pancakes'], ['cereals', 'spaghetti'], ['champagne', 'chocolate'], ['champagne', 'eggs'], ['champagne', 'french fries'], ['champagne', 'frozen smoothie'], ['champagne', 'frozen vegetables'], ['champagne', 'green tea'], ['champagne', 'milk'], ['champagne', 'mineral water'], ['champagne', 'pancakes'], ['champagne', 'spaghetti'], ['chicken', 'chocolate'], ['chicken', 'cooking oil'], ['chicken', 'eggs'], ['chicken', 'french fries'], ['chicken', 'fresh bread'], ['chicken', 'frozen smoothie'], ['chicken', 'frozen vegetables'], ['chicken', 'grated cheese'], ['chicken', 'green tea'], ['chicken', 'ground beef'], ['chicken', 'herb & pepper'], ['chicken', 'honey'], ['chicken', 'light cream'], ['chicken', 'low fat yogurt'], ['chicken', 'milk'], ['chicken', 'mineral water'], ['chicken', 'olive oil'], ['chicken', 'pancakes'], ['chicken', 'shrimp'], ['chicken', 'soup'], ['chicken', 'spaghetti'], ['chicken', 'tomatoes'], ['chicken', 'turkey'], ['chicken', 'whole wheat rice'], ['chocolate', 'cookies'], ['chocolate', 'cooking oil'], ['chocolate', 'cottage cheese'], ['chocolate', 'eggs'], ['chocolate', 'escalope'], ['chocolate', 'french fries'], ['chocolate', 'french wine'], ['chocolate', 'fresh bread'], ['chocolate', 'fresh tuna'], ['chocolate', 'frozen smoothie'], ['chocolate', 'frozen vegetables'], ['chocolate', 'grated cheese'], ['chocolate', 'green tea'], ['chocolate', 'ground beef'], ['chocolate', 'ham'], ['chocolate', 'herb & pepper'], ['chocolate', 'honey'], ['chocolate', 'hot dogs'], ['chocolate', 'light mayo'], ['chocolate', 'low fat yogurt'], ['chocolate', 'milk'], ['chocolate', 'mineral water'], ['chocolate', 'mushroom cream sauce'], ['chocolate', 'oil'], ['chocolate', 'olive oil'], ['chocolate', 'pancakes'], ['chocolate', 'parmesan cheese'], ['chocolate', 'pepper'], ['chocolate', 'red wine'], ['chocolate', 'rice'], ['chocolate', 'salmon'], ['chocolate', 'shrimp'], ['chocolate', 'soup'], ['chocolate', 'spaghetti'], ['chocolate', 'tomato juice'], ['chocolate', 'tomato sauce'], ['chocolate', 'tomatoes'], ['chocolate', 'turkey'], ['chocolate', 'vegetables mix'], ['chocolate', 'whole wheat pasta'], ['chocolate', 'whole wheat rice'], ['chocolate', 'yogurt cake'], ['cider', 'eggs'], ['cookies', 'eggs'], ['cookies', 'french fries'], ['cookies', 'green tea'], ['cookies', 'ground beef'], ['cookies', 'low fat yogurt'], ['cookies', 'milk'], ['cookies', 'mineral water'], ['cookies', 'pancakes'], ['cookies', 'shrimp'], ['cookies', 'spaghetti'], ['cooking oil', 'eggs'], ['cooking oil', 'escalope'], ['cooking oil', 'french fries'], ['cooking oil', 'frozen smoothie'], ['cooking oil', 'frozen vegetables'], ['cooking oil', 'grated cheese'], ['cooking oil', 'green tea'], ['cooking oil', 'ground beef'], ['cooking oil', 'herb & pepper'], ['cooking oil', 'low fat yogurt'], ['cooking oil', 'milk'], ['cooking oil', 'mineral water'], ['cooking oil', 'olive oil'], ['cooking oil', 'pancakes'], ['cooking oil', 'shrimp'], ['cooking oil', 'soup'], ['cooking oil', 'spaghetti'], ['cooking oil', 'tomatoes'], ['cooking oil', 'turkey'], ['cooking oil', 'whole wheat rice'], ['cottage cheese', 'eggs'], ['cottage cheese', 'french fries'], ['cottage cheese', 'frozen smoothie'], ['cottage cheese', 'frozen vegetables'], ['cottage cheese', 'green tea'], ['cottage cheese', 'milk'], ['cottage cheese', 'mineral water'], ['cottage cheese', 'pancakes'], ['cottage cheese', 'spaghetti'], ['eggs', 'energy bar'], ['eggs', 'energy drink'], ['eggs', 'escalope'], ['eggs', 'french fries'], ['eggs', 'french wine'], ['eggs', 'fresh bread'], ['eggs', 'fresh tuna'], ['eggs', 'frozen smoothie'], ['eggs', 'frozen vegetables'], ['eggs', 'grated cheese'], ['eggs', 'green tea'], ['eggs', 'ground beef'], ['eggs', 'ham'], ['eggs', 'herb & pepper'], ['eggs', 'honey'], ['eggs', 'light mayo'], ['eggs', 'low fat yogurt'], ['eggs', 'meatballs'], ['eggs', 'milk'], ['eggs', 'mineral water'], ['eggs', 'olive oil'], ['eggs', 'pancakes'], ['eggs', 'parmesan cheese'], ['eggs', 'pepper'], ['eggs', 'red wine'], ['eggs', 'salmon'], ['eggs', 'shrimp'], ['eggs', 'soup'], ['eggs', 'spaghetti'], ['eggs', 'tomato juice'], ['eggs', 'tomatoes'], ['eggs', 'turkey'], ['eggs', 'vegetables mix'], ['eggs', 'whole wheat pasta'], ['eggs', 'whole wheat rice'], ['eggs', 'yogurt cake'], ['energy bar', 'french fries'], ['energy bar', 'frozen vegetables'], ['energy bar', 'milk'], ['energy bar', 'mineral water'], ['energy bar', 'spaghetti'], ['energy drink', 'french fries'], ['energy drink', 'mineral water'], ['energy drink', 'spaghetti'], ['escalope', 'french fries'], ['escalope', 'frozen smoothie'], ['escalope', 'frozen vegetables'], ['escalope', 'grated cheese'], ['escalope', 'green tea'], ['escalope', 'ground beef'], ['escalope', 'low fat yogurt'], ['escalope', 'milk'], ['escalope', 'mineral water'], ['escalope', 'mushroom cream sauce'], ['escalope', 'pancakes'], ['escalope', 'pasta'], ['escalope', 'shrimp'], ['escalope', 'spaghetti'], ['escalope', 'tomatoes'], ['escalope', 'turkey'], ['escalope', 'whole wheat rice'], ['extra dark chocolate', 'mineral water'], ['extra dark chocolate', 'spaghetti'], ['french fries', 'fresh bread'], ['french fries', 'frozen smoothie'], ['french fries', 'frozen vegetables'], ['french fries', 'grated cheese'], ['french fries', 'green tea'], ['french fries', 'ground beef'], ['french fries', 'ham'], ['french fries', 'herb & pepper'], ['french fries', 'honey'], ['french fries', 'hot dogs'], ['french fries', 'light mayo'], ['french fries', 'low fat yogurt'], ['french fries', 'milk'], ['french fries', 'mineral water'], ['french fries', 'muffins'], ['french fries', 'mushroom cream sauce'], ['french fries', 'olive oil'], ['french fries', 'pancakes'], ['french fries', 'red wine'], ['french fries', 'rice'], ['french fries', 'salmon'], ['french fries', 'shrimp'], ['french fries', 'soup'], ['french fries', 'spaghetti'], ['french fries', 'strawberries'], ['french fries', 'tomato juice'], ['french fries', 'tomatoes'], ['french fries', 'turkey'], ['french fries', 'vegetables mix'], ['french fries', 'whole wheat pasta'], ['french fries', 'whole wheat rice'], ['french fries', 'yogurt cake'], ['french wine', 'milk'], ['french wine', 'mineral water'], ['french wine', 'pancakes'], ['french wine', 'spaghetti'], ['fresh bread', 'frozen smoothie'], ['fresh bread', 'frozen vegetables'], ['fresh bread', 'green tea'], ['fresh bread', 'ground beef'], ['fresh bread', 'low fat yogurt'], ['fresh bread', 'milk'], ['fresh bread', 'mineral water'], ['fresh bread', 'olive oil'], ['fresh bread', 'pancakes'], ['fresh bread', 'shrimp'], ['fresh bread', 'spaghetti'], ['fresh bread', 'tomato juice'], ['fresh bread', 'tomatoes'], ['fresh tuna', 'frozen vegetables'], ['fresh tuna', 'milk'], ['fresh tuna', 'mineral water'], ['fresh tuna', 'pancakes'], ['fresh tuna', 'spaghetti'], ['fromage blanc', 'mineral water'], ['frozen smoothie', 'frozen vegetables'], ['frozen smoothie', 'green tea'], ['frozen smoothie', 'ground beef'], ['frozen smoothie', 'honey'], ['frozen smoothie', 'hot dogs'], ['frozen smoothie', 'low fat yogurt'], ['frozen smoothie', 'milk'], ['frozen smoothie', 'mineral water'], ['frozen smoothie', 'olive oil'], ['frozen smoothie', 'pancakes'], ['frozen smoothie', 'salmon'], ['frozen smoothie', 'shrimp'], ['frozen smoothie', 'spaghetti'], ['frozen smoothie', 'tomatoes'], ['frozen smoothie', 'turkey'], ['frozen smoothie', 'whole wheat rice'], ['frozen vegetables', 'grated cheese'], ['frozen vegetables', 'green tea'], ['frozen vegetables', 'ground beef'], ['frozen vegetables', 'herb & pepper'], ['frozen vegetables', 'honey'], ['frozen vegetables', 'light mayo'], ['frozen vegetables', 'low fat yogurt'], ['frozen vegetables', 'milk'], ['frozen vegetables', 'mineral water'], ['frozen vegetables', 'olive oil'], ['frozen vegetables', 'pancakes'], ['frozen vegetables', 'parmesan cheese'], ['frozen vegetables', 'salmon'], ['frozen vegetables', 'shrimp'], ['frozen vegetables', 'soup'], ['frozen vegetables', 'spaghetti'], ['frozen vegetables', 'tomato juice'], ['frozen vegetables', 'tomatoes'], ['frozen vegetables', 'turkey'], ['frozen vegetables', 'vegetables mix'], ['frozen vegetables', 'whole wheat pasta'], ['frozen vegetables', 'whole wheat rice'], ['grated cheese', 'green tea'], ['grated cheese', 'ground beef'], ['grated cheese', 'herb & pepper'], ['grated cheese', 'honey'], ['grated cheese', 'low fat yogurt'], ['grated cheese', 'milk'], ['grated cheese', 'mineral water'], ['grated cheese', 'olive oil'], ['grated cheese', 'pancakes'], ['grated cheese', 'salmon'], ['grated cheese', 'shrimp'], ['grated cheese', 'spaghetti'], ['grated cheese', 'tomatoes'], ['grated cheese', 'turkey'], ['grated cheese', 'whole wheat rice'], ['green tea', 'ground beef'], ['green tea', 'ham'], ['green tea', 'herb & pepper'], ['green tea', 'honey'], ['green tea', 'hot dogs'], ['green tea', 'light mayo'], ['green tea', 'low fat yogurt'], ['green tea', 'milk'], ['green tea', 'mineral water'], ['green tea', 'oil'], ['green tea', 'olive oil'], ['green tea', 'pancakes'], ['green tea', 'pepper'], ['green tea', 'red wine'], ['green tea', 'salmon'], ['green tea', 'shrimp'], ['green tea', 'soup'], ['green tea', 'spaghetti'], ['green tea', 'tomato juice'], ['green tea', 'tomatoes'], ['green tea', 'turkey'], ['green tea', 'vegetables mix'], ['green tea', 'whole wheat pasta'], ['green tea', 'whole wheat rice'], ['ground beef', 'ham'], ['ground beef', 'herb & pepper'], ['ground beef', 'honey'], ['ground beef', 'low fat yogurt'], ['ground beef', 'milk'], ['ground beef', 'mineral water'], ['ground beef', 'olive oil'], ['ground beef', 'pancakes'], ['ground beef', 'pepper'], ['ground beef', 'red wine'], ['ground beef', 'rice'], ['ground beef', 'salmon'], ['ground beef', 'shrimp'], ['ground beef', 'soup'], ['ground beef', 'spaghetti'], ['ground beef', 'tomato sauce'], ['ground beef', 'tomatoes'], ['ground beef', 'turkey'], ['ground beef', 'whole wheat pasta'], ['ground beef', 'whole wheat rice'], ['gums', 'mineral water'], ['ham', 'milk'], ['ham', 'mineral water'], ['ham', 'pancakes'], ['ham', 'spaghetti'], ['ham', 'whole wheat rice'], ['herb & pepper', 'low fat yogurt'], ['herb & pepper', 'milk'], ['herb & pepper', 'mineral water'], ['herb & pepper', 'olive oil'], ['herb & pepper', 'pancakes'], ['herb & pepper', 'shrimp'], ['herb & pepper', 'spaghetti'], ['herb & pepper', 'tomatoes'], ['herb & pepper', 'turkey'], ['honey', 'milk'], ['honey', 'mineral water'], ['honey', 'olive oil'], ['honey', 'pancakes'], ['honey', 'shrimp'], ['honey', 'spaghetti'], ['honey', 'tomatoes'], ['honey', 'turkey'], ['hot dogs', 'milk'], ['hot dogs', 'mineral water'], ['hot dogs', 'pancakes'], ['hot dogs', 'spaghetti'], ['light cream', 'mineral water'], ['light cream', 'spaghetti'], ['light mayo', 'mineral water'], ['light mayo', 'pancakes'], ['low fat yogurt', 'milk'], ['low fat yogurt', 'mineral water'], ['low fat yogurt', 'olive oil'], ['low fat yogurt', 'pancakes'], ['low fat yogurt', 'shrimp'], ['low fat yogurt', 'soup'], ['low fat yogurt', 'spaghetti'], ['low fat yogurt', 'tomatoes'], ['low fat yogurt', 'turkey'], ['low fat yogurt', 'whole wheat rice'], ['meatballs', 'milk'], ['meatballs', 'mineral water'], ['meatballs', 'spaghetti'], ['milk', 'mineral water'], ['milk', 'oil'], ['milk', 'olive oil'], ['milk', 'pancakes'], ['milk', 'pepper'], ['milk', 'salmon'], ['milk', 'shrimp'], ['milk', 'soup'], ['milk', 'spaghetti'], ['milk', 'tomato juice'], ['milk', 'tomatoes'], ['milk', 'turkey'], ['milk', 'vegetables mix'], ['milk', 'whole wheat pasta'], ['milk', 'whole wheat rice'], ['mineral water', 'mint'], ['mineral water', 'muffins'], ['mineral water', 'nonfat milk'], ['mineral water', 'oil'], ['mineral water', 'olive oil'], ['mineral water', 'pancakes'], ['mineral water', 'parmesan cheese'], ['mineral water', 'pepper'], ['mineral water', 'protein bar'], ['mineral water', 'red wine'], ['mineral water', 'rice'], ['mineral water', 'salmon'], ['mineral water', 'shrimp'], ['mineral water', 'soup'], ['mineral water', 'spaghetti'], ['mineral water', 'strawberries'], ['mineral water', 'tomato juice'], ['mineral water', 'tomato sauce'], ['mineral water', 'tomatoes'], ['mineral water', 'turkey'], ['mineral water', 'vegetables mix'], ['mineral water', 'white wine'], ['mineral water', 'whole wheat pasta'], ['mineral water', 'whole wheat rice'], ['mineral water', 'yogurt cake'], ['mushroom cream sauce', 'spaghetti'], ['oil', 'spaghetti'], ['olive oil', 'pancakes'], ['olive oil', 'salmon'], ['olive oil', 'shrimp'], ['olive oil', 'soup'], ['olive oil', 'spaghetti'], ['olive oil', 'tomatoes'], ['olive oil', 'turkey'], ['olive oil', 'whole wheat pasta'], ['pancakes', 'pepper'], ['pancakes', 'salmon'], ['pancakes', 'shrimp'], ['pancakes', 'soup'], ['pancakes', 'spaghetti'], ['pancakes', 'tomato juice'], ['pancakes', 'tomatoes'], ['pancakes', 'turkey'], ['pancakes', 'whole wheat pasta'], ['pancakes', 'whole wheat rice'], ['parmesan cheese', 'spaghetti'], ['pasta', 'shrimp'], ['pepper', 'spaghetti'], ['protein bar', 'spaghetti'], ['red wine', 'spaghetti'], ['rice', 'spaghetti'], ['salmon', 'shrimp'], ['salmon', 'spaghetti'], ['salmon', 'tomatoes'], ['salmon', 'turkey'], ['shrimp', 'soup'], ['shrimp', 'spaghetti'], ['shrimp', 'tomatoes'], ['shrimp', 'turkey'], ['shrimp', 'whole wheat rice'], ['soup', 'spaghetti'], ['soup', 'tomatoes'], ['soup', 'turkey'], ['spaghetti', 'strawberries'], ['spaghetti', 'tomato juice'], ['spaghetti', 'tomato sauce'], ['spaghetti', 'tomatoes'], ['spaghetti', 'turkey'], ['spaghetti', 'vegetables mix'], ['spaghetti', 'white wine'], ['spaghetti', 'whole wheat pasta'], ['spaghetti', 'whole wheat rice'], ['tomatoes', 'turkey'], ['tomatoes', 'whole wheat rice'], ['turkey', 'whole wheat rice']]\n",
            "[['burgers', 'cake', 'mineral water'], ['burgers', 'chocolate', 'eggs'], ['burgers', 'chocolate', 'french fries'], ['burgers', 'chocolate', 'milk'], ['burgers', 'chocolate', 'mineral water'], ['burgers', 'chocolate', 'spaghetti'], ['burgers', 'eggs', 'french fries'], ['burgers', 'eggs', 'green tea'], ['burgers', 'eggs', 'milk'], ['burgers', 'eggs', 'mineral water'], ['burgers', 'eggs', 'pancakes'], ['burgers', 'eggs', 'spaghetti'], ['burgers', 'french fries', 'green tea'], ['burgers', 'french fries', 'milk'], ['burgers', 'french fries', 'mineral water'], ['burgers', 'french fries', 'spaghetti'], ['burgers', 'frozen vegetables', 'mineral water'], ['burgers', 'green tea', 'spaghetti'], ['burgers', 'ground beef', 'milk'], ['burgers', 'ground beef', 'mineral water'], ['burgers', 'ground beef', 'spaghetti'], ['burgers', 'milk', 'mineral water'], ['burgers', 'milk', 'spaghetti'], ['burgers', 'mineral water', 'spaghetti'], ['burgers', 'pancakes', 'spaghetti'], ['cake', 'chocolate', 'eggs'], ['cake', 'chocolate', 'mineral water'], ['cake', 'chocolate', 'spaghetti'], ['cake', 'eggs', 'french fries'], ['cake', 'eggs', 'milk'], ['cake', 'eggs', 'mineral water'], ['cake', 'eggs', 'spaghetti'], ['cake', 'french fries', 'green tea'], ['cake', 'french fries', 'mineral water'], ['cake', 'frozen vegetables', 'mineral water'], ['cake', 'green tea', 'mineral water'], ['cake', 'milk', 'mineral water'], ['cake', 'milk', 'spaghetti'], ['cake', 'mineral water', 'pancakes'], ['cake', 'mineral water', 'spaghetti'], ['cake', 'pancakes', 'spaghetti'], ['chicken', 'chocolate', 'milk'], ['chicken', 'chocolate', 'mineral water'], ['chicken', 'chocolate', 'spaghetti'], ['chicken', 'eggs', 'milk'], ['chicken', 'eggs', 'mineral water'], ['chicken', 'eggs', 'spaghetti'], ['chicken', 'french fries', 'mineral water'], ['chicken', 'ground beef', 'spaghetti'], ['chicken', 'milk', 'mineral water'], ['chicken', 'milk', 'spaghetti'], ['chicken', 'mineral water', 'pancakes'], ['chicken', 'mineral water', 'spaghetti'], ['chocolate', 'cooking oil', 'eggs'], ['chocolate', 'cooking oil', 'milk'], ['chocolate', 'cooking oil', 'mineral water'], ['chocolate', 'cooking oil', 'spaghetti'], ['chocolate', 'eggs', 'french fries'], ['chocolate', 'eggs', 'frozen vegetables'], ['chocolate', 'eggs', 'green tea'], ['chocolate', 'eggs', 'ground beef'], ['chocolate', 'eggs', 'milk'], ['chocolate', 'eggs', 'mineral water'], ['chocolate', 'eggs', 'pancakes'], ['chocolate', 'eggs', 'spaghetti'], ['chocolate', 'escalope', 'french fries'], ['chocolate', 'escalope', 'mineral water'], ['chocolate', 'escalope', 'spaghetti'], ['chocolate', 'french fries', 'frozen vegetables'], ['chocolate', 'french fries', 'green tea'], ['chocolate', 'french fries', 'milk'], ['chocolate', 'french fries', 'mineral water'], ['chocolate', 'french fries', 'pancakes'], ['chocolate', 'french fries', 'spaghetti'], ['chocolate', 'frozen smoothie', 'milk'], ['chocolate', 'frozen smoothie', 'mineral water'], ['chocolate', 'frozen smoothie', 'spaghetti'], ['chocolate', 'frozen vegetables', 'ground beef'], ['chocolate', 'frozen vegetables', 'milk'], ['chocolate', 'frozen vegetables', 'mineral water'], ['chocolate', 'frozen vegetables', 'shrimp'], ['chocolate', 'frozen vegetables', 'spaghetti'], ['chocolate', 'green tea', 'milk'], ['chocolate', 'green tea', 'mineral water'], ['chocolate', 'green tea', 'pancakes'], ['chocolate', 'green tea', 'spaghetti'], ['chocolate', 'ground beef', 'milk'], ['chocolate', 'ground beef', 'mineral water'], ['chocolate', 'ground beef', 'spaghetti'], ['chocolate', 'low fat yogurt', 'mineral water'], ['chocolate', 'milk', 'mineral water'], ['chocolate', 'milk', 'olive oil'], ['chocolate', 'milk', 'pancakes'], ['chocolate', 'milk', 'shrimp'], ['chocolate', 'milk', 'spaghetti'], ['chocolate', 'mineral water', 'olive oil'], ['chocolate', 'mineral water', 'pancakes'], ['chocolate', 'mineral water', 'salmon'], ['chocolate', 'mineral water', 'shrimp'], ['chocolate', 'mineral water', 'soup'], ['chocolate', 'mineral water', 'spaghetti'], ['chocolate', 'mineral water', 'tomatoes'], ['chocolate', 'mineral water', 'turkey'], ['chocolate', 'olive oil', 'spaghetti'], ['chocolate', 'pancakes', 'spaghetti'], ['chocolate', 'shrimp', 'spaghetti'], ['chocolate', 'spaghetti', 'tomatoes'], ['chocolate', 'spaghetti', 'whole wheat rice'], ['cookies', 'french fries', 'green tea'], ['cooking oil', 'eggs', 'mineral water'], ['cooking oil', 'eggs', 'spaghetti'], ['cooking oil', 'ground beef', 'spaghetti'], ['cooking oil', 'milk', 'mineral water'], ['cooking oil', 'mineral water', 'pancakes'], ['cooking oil', 'mineral water', 'spaghetti'], ['eggs', 'french fries', 'frozen vegetables'], ['eggs', 'french fries', 'green tea'], ['eggs', 'french fries', 'milk'], ['eggs', 'french fries', 'mineral water'], ['eggs', 'french fries', 'pancakes'], ['eggs', 'french fries', 'spaghetti'], ['eggs', 'frozen smoothie', 'mineral water'], ['eggs', 'frozen vegetables', 'ground beef'], ['eggs', 'frozen vegetables', 'milk'], ['eggs', 'frozen vegetables', 'mineral water'], ['eggs', 'frozen vegetables', 'spaghetti'], ['eggs', 'grated cheese', 'mineral water'], ['eggs', 'grated cheese', 'spaghetti'], ['eggs', 'green tea', 'mineral water'], ['eggs', 'green tea', 'spaghetti'], ['eggs', 'ground beef', 'herb & pepper'], ['eggs', 'ground beef', 'milk'], ['eggs', 'ground beef', 'mineral water'], ['eggs', 'ground beef', 'spaghetti'], ['eggs', 'herb & pepper', 'mineral water'], ['eggs', 'herb & pepper', 'spaghetti'], ['eggs', 'low fat yogurt', 'mineral water'], ['eggs', 'milk', 'mineral water'], ['eggs', 'milk', 'pancakes'], ['eggs', 'milk', 'shrimp'], ['eggs', 'milk', 'spaghetti'], ['eggs', 'mineral water', 'olive oil'], ['eggs', 'mineral water', 'pancakes'], ['eggs', 'mineral water', 'shrimp'], ['eggs', 'mineral water', 'soup'], ['eggs', 'mineral water', 'spaghetti'], ['eggs', 'mineral water', 'tomatoes'], ['eggs', 'mineral water', 'turkey'], ['eggs', 'olive oil', 'spaghetti'], ['eggs', 'pancakes', 'spaghetti'], ['eggs', 'spaghetti', 'turkey'], ['escalope', 'mineral water', 'spaghetti'], ['french fries', 'frozen vegetables', 'milk'], ['french fries', 'frozen vegetables', 'mineral water'], ['french fries', 'frozen vegetables', 'spaghetti'], ['french fries', 'green tea', 'mineral water'], ['french fries', 'green tea', 'pancakes'], ['french fries', 'green tea', 'spaghetti'], ['french fries', 'ground beef', 'mineral water'], ['french fries', 'ground beef', 'spaghetti'], ['french fries', 'milk', 'mineral water'], ['french fries', 'milk', 'spaghetti'], ['french fries', 'mineral water', 'pancakes'], ['french fries', 'mineral water', 'spaghetti'], ['french fries', 'pancakes', 'spaghetti'], ['frozen smoothie', 'frozen vegetables', 'spaghetti'], ['frozen smoothie', 'milk', 'mineral water'], ['frozen smoothie', 'milk', 'spaghetti'], ['frozen smoothie', 'mineral water', 'spaghetti'], ['frozen vegetables', 'green tea', 'mineral water'], ['frozen vegetables', 'green tea', 'spaghetti'], ['frozen vegetables', 'ground beef', 'milk'], ['frozen vegetables', 'ground beef', 'mineral water'], ['frozen vegetables', 'ground beef', 'spaghetti'], ['frozen vegetables', 'low fat yogurt', 'mineral water'], ['frozen vegetables', 'milk', 'mineral water'], ['frozen vegetables', 'milk', 'olive oil'], ['frozen vegetables', 'milk', 'shrimp'], ['frozen vegetables', 'milk', 'spaghetti'], ['frozen vegetables', 'milk', 'tomatoes'], ['frozen vegetables', 'mineral water', 'olive oil'], ['frozen vegetables', 'mineral water', 'pancakes'], ['frozen vegetables', 'mineral water', 'shrimp'], ['frozen vegetables', 'mineral water', 'soup'], ['frozen vegetables', 'mineral water', 'spaghetti'], ['frozen vegetables', 'mineral water', 'tomatoes'], ['frozen vegetables', 'mineral water', 'turkey'], ['frozen vegetables', 'mineral water', 'whole wheat rice'], ['frozen vegetables', 'olive oil', 'spaghetti'], ['frozen vegetables', 'pancakes', 'spaghetti'], ['frozen vegetables', 'shrimp', 'spaghetti'], ['frozen vegetables', 'spaghetti', 'tomatoes'], ['grated cheese', 'ground beef', 'mineral water'], ['grated cheese', 'ground beef', 'spaghetti'], ['grated cheese', 'mineral water', 'spaghetti'], ['green tea', 'ground beef', 'mineral water'], ['green tea', 'ground beef', 'spaghetti'], ['green tea', 'milk', 'mineral water'], ['green tea', 'milk', 'spaghetti'], ['green tea', 'mineral water', 'olive oil'], ['green tea', 'mineral water', 'pancakes'], ['green tea', 'mineral water', 'spaghetti'], ['green tea', 'olive oil', 'spaghetti'], ['green tea', 'pancakes', 'spaghetti'], ['ground beef', 'herb & pepper', 'mineral water'], ['ground beef', 'herb & pepper', 'spaghetti'], ['ground beef', 'low fat yogurt', 'mineral water'], ['ground beef', 'milk', 'mineral water'], ['ground beef', 'milk', 'olive oil'], ['ground beef', 'milk', 'spaghetti'], ['ground beef', 'mineral water', 'olive oil'], ['ground beef', 'mineral water', 'pancakes'], ['ground beef', 'mineral water', 'shrimp'], ['ground beef', 'mineral water', 'soup'], ['ground beef', 'mineral water', 'spaghetti'], ['ground beef', 'mineral water', 'tomatoes'], ['ground beef', 'olive oil', 'spaghetti'], ['ground beef', 'pancakes', 'spaghetti'], ['ground beef', 'shrimp', 'spaghetti'], ['ground beef', 'spaghetti', 'tomatoes'], ['herb & pepper', 'milk', 'mineral water'], ['herb & pepper', 'mineral water', 'spaghetti'], ['low fat yogurt', 'milk', 'mineral water'], ['low fat yogurt', 'milk', 'spaghetti'], ['low fat yogurt', 'mineral water', 'pancakes'], ['low fat yogurt', 'mineral water', 'spaghetti'], ['milk', 'mineral water', 'olive oil'], ['milk', 'mineral water', 'pancakes'], ['milk', 'mineral water', 'salmon'], ['milk', 'mineral water', 'shrimp'], ['milk', 'mineral water', 'soup'], ['milk', 'mineral water', 'spaghetti'], ['milk', 'mineral water', 'tomatoes'], ['milk', 'mineral water', 'turkey'], ['milk', 'mineral water', 'whole wheat rice'], ['milk', 'olive oil', 'spaghetti'], ['milk', 'pancakes', 'spaghetti'], ['milk', 'shrimp', 'spaghetti'], ['milk', 'soup', 'spaghetti'], ['milk', 'spaghetti', 'tomatoes'], ['milk', 'spaghetti', 'turkey'], ['mineral water', 'olive oil', 'pancakes'], ['mineral water', 'olive oil', 'shrimp'], ['mineral water', 'olive oil', 'soup'], ['mineral water', 'olive oil', 'spaghetti'], ['mineral water', 'olive oil', 'tomatoes'], ['mineral water', 'pancakes', 'shrimp'], ['mineral water', 'pancakes', 'soup'], ['mineral water', 'pancakes', 'spaghetti'], ['mineral water', 'pancakes', 'tomatoes'], ['mineral water', 'pancakes', 'whole wheat rice'], ['mineral water', 'salmon', 'spaghetti'], ['mineral water', 'shrimp', 'spaghetti'], ['mineral water', 'soup', 'spaghetti'], ['mineral water', 'spaghetti', 'tomatoes'], ['mineral water', 'spaghetti', 'turkey'], ['mineral water', 'spaghetti', 'whole wheat rice'], ['olive oil', 'pancakes', 'spaghetti'], ['olive oil', 'spaghetti', 'tomatoes']]\n",
            "[['chocolate', 'eggs', 'milk', 'mineral water'], ['chocolate', 'eggs', 'mineral water', 'spaghetti'], ['chocolate', 'frozen vegetables', 'mineral water', 'spaghetti'], ['chocolate', 'milk', 'mineral water', 'spaghetti'], ['eggs', 'milk', 'mineral water', 'spaghetti'], ['frozen vegetables', 'ground beef', 'mineral water', 'spaghetti'], ['frozen vegetables', 'milk', 'mineral water', 'spaghetti'], ['ground beef', 'milk', 'mineral water', 'spaghetti']]\n"
          ]
        }
      ]
    },
    {
      "cell_type": "code",
      "source": [
        "min_conf = 55\n",
        "association_rules = generate_association_rules(L, sup_count, min_conf)"
      ],
      "metadata": {
        "id": "z4Uh0Z9wQWu_"
      },
      "execution_count": null,
      "outputs": []
    },
    {
      "cell_type": "code",
      "source": [
        "print(\"Minimun support = {a}%, minimum confidence = {b}%\".format(a=min_sup,b=min_conf))\n",
        "print(\"Number of association rules is : \",len(association_rules))\n",
        "for rule in association_rules:\n",
        "    print(rule)"
      ],
      "metadata": {
        "colab": {
          "base_uri": "https://localhost:8080/"
        },
        "id": "TOvyyWQIRBmT",
        "outputId": "6d092cac-3922-4206-82f6-d5e9c94f5663"
      },
      "execution_count": null,
      "outputs": [
        {
          "output_type": "stream",
          "name": "stdout",
          "text": [
            "Minimun support = 0.4%, minimum confidence = 55%\n",
            "Number of association rules is :  12\n",
            "{'chocolate', 'soup'}-->{'mineral water'} Confidence :0.5526315789473685\n",
            "{'cooking oil', 'ground beef'}-->{'spaghetti'} Confidence :0.5714285714285714\n",
            "{'cooking oil', 'pancakes'}-->{'mineral water'} Confidence :0.5932203389830508\n",
            "{'frozen vegetables', 'olive oil'}-->{'mineral water'} Confidence :0.5764705882352941\n",
            "{'soup', 'frozen vegetables'}-->{'mineral water'} Confidence :0.6333333333333333\n",
            "{'soup', 'milk'}-->{'mineral water'} Confidence :0.5614035087719298\n",
            "{'shrimp', 'olive oil'}-->{'mineral water'} Confidence :0.5573770491803278\n",
            "{'soup', 'olive oil'}-->{'mineral water'} Confidence :0.582089552238806\n",
            "{'olive oil', 'tomatoes'}-->{'mineral water'} Confidence :0.5740740740740741\n",
            "{'soup', 'pancakes'}-->{'mineral water'} Confidence :0.6274509803921569\n",
            "{'whole wheat rice', 'pancakes'}-->{'mineral water'} Confidence :0.5961538461538461\n",
            "{'olive oil', 'tomatoes'}-->{'spaghetti'} Confidence :0.6111111111111112\n"
          ]
        }
      ]
    },
    {
      "cell_type": "code",
      "source": [
        "L1, C1, sup_count_1 = apriori(transactions[:3750], min_sup)\n",
        "L2, C2, sup_count_2 = apriori(transactions[3751:], min_sup)"
      ],
      "metadata": {
        "colab": {
          "base_uri": "https://localhost:8080/"
        },
        "id": "FeyOmvPRo7Oq",
        "outputId": "8502ce75-a8f3-4891-9b6c-b9b429e0d540"
      },
      "execution_count": null,
      "outputs": [
        {
          "output_type": "stream",
          "name": "stdout",
          "text": [
            "C[1] :  [['almonds'], ['antioxydant juice'], ['asparagus'], ['avocado'], ['babies food'], ['bacon'], ['barbecue sauce'], ['black tea'], ['blueberries'], ['body spray'], ['bramble'], ['brownies'], ['bug spray'], ['burger sauce'], ['burgers'], ['butter'], ['cake'], ['candy bars'], ['carrots'], ['cauliflower'], ['cereals'], ['champagne'], ['chicken'], ['chili'], ['chocolate'], ['chocolate bread'], ['chutney'], ['cider'], ['clothes accessories'], ['cookies'], ['cooking oil'], ['corn'], ['cottage cheese'], ['cream'], ['dessert wine'], ['eggplant'], ['eggs'], ['energy bar'], ['energy drink'], ['escalope'], ['extra dark chocolate'], ['flax seed'], ['french fries'], ['french wine'], ['fresh bread'], ['fresh tuna'], ['fromage blanc'], ['frozen smoothie'], ['frozen vegetables'], ['gluten free bar'], ['grated cheese'], ['green beans'], ['green grapes'], ['green tea'], ['ground beef'], ['gums'], ['ham'], ['hand protein bar'], ['herb & pepper'], ['honey'], ['hot dogs'], ['ketchup'], ['light cream'], ['light mayo'], ['low fat yogurt'], ['magazines'], ['mashed potato'], ['mayonnaise'], ['meatballs'], ['melons'], ['milk'], ['mineral water'], ['mint'], ['mint green tea'], ['muffins'], ['mushroom cream sauce'], ['napkins'], ['nonfat milk'], ['oatmeal'], ['oil'], ['olive oil'], ['pancakes'], ['parmesan cheese'], ['pasta'], ['pepper'], ['pet food'], ['pickles'], ['protein bar'], ['red wine'], ['rice'], ['salad'], ['salmon'], ['salt'], ['sandwich'], ['shallot'], ['shampoo'], ['shrimp'], ['soda'], ['soup'], ['spaghetti'], ['sparkling water'], ['spinach'], ['strawberries'], ['strong cheese'], ['tea'], ['tomato juice'], ['tomato sauce'], ['tomatoes'], ['toothpaste'], ['turkey'], ['vegetables mix'], ['water spray'], ['white wine'], ['whole weat flour'], ['whole wheat pasta'], ['whole wheat rice'], ['yams'], ['yogurt cake'], ['zucchini']]\n",
            "C[1] :  [['almonds'], ['antioxydant juice'], ['asparagus'], ['avocado'], ['babies food'], ['bacon'], ['barbecue sauce'], ['black tea'], ['blueberries'], ['body spray'], ['bramble'], ['brownies'], ['bug spray'], ['burger sauce'], ['burgers'], ['butter'], ['cake'], ['candy bars'], ['carrots'], ['cauliflower'], ['cereals'], ['champagne'], ['chicken'], ['chili'], ['chocolate'], ['chocolate bread'], ['chutney'], ['cider'], ['clothes accessories'], ['cookies'], ['cooking oil'], ['corn'], ['cottage cheese'], ['cream'], ['dessert wine'], ['eggplant'], ['eggs'], ['energy bar'], ['energy drink'], ['escalope'], ['extra dark chocolate'], ['flax seed'], ['french fries'], ['french wine'], ['fresh bread'], ['fresh tuna'], ['fromage blanc'], ['frozen smoothie'], ['frozen vegetables'], ['gluten free bar'], ['grated cheese'], ['green beans'], ['green grapes'], ['green tea'], ['ground beef'], ['gums'], ['ham'], ['hand protein bar'], ['herb & pepper'], ['honey'], ['hot dogs'], ['ketchup'], ['light cream'], ['light mayo'], ['low fat yogurt'], ['magazines'], ['mashed potato'], ['mayonnaise'], ['meatballs'], ['melons'], ['milk'], ['mineral water'], ['mint'], ['mint green tea'], ['muffins'], ['mushroom cream sauce'], ['napkins'], ['nonfat milk'], ['oatmeal'], ['oil'], ['olive oil'], ['pancakes'], ['parmesan cheese'], ['pasta'], ['pepper'], ['pet food'], ['pickles'], ['protein bar'], ['red wine'], ['rice'], ['salad'], ['salmon'], ['salt'], ['sandwich'], ['shallot'], ['shampoo'], ['shrimp'], ['soda'], ['soup'], ['spaghetti'], ['sparkling water'], ['spinach'], ['strawberries'], ['strong cheese'], ['tea'], ['tomato juice'], ['tomato sauce'], ['tomatoes'], ['toothpaste'], ['turkey'], ['vegetables mix'], ['white wine'], ['whole weat flour'], ['whole wheat pasta'], ['whole wheat rice'], ['yams'], ['yogurt cake'], ['zucchini']]\n"
          ]
        }
      ]
    },
    {
      "cell_type": "code",
      "source": [
        "association_rules_1 = generate_association_rules(L1, sup_count_1, min_conf)\n",
        "association_rules_2 = generate_association_rules(L2, sup_count_2, min_conf)"
      ],
      "metadata": {
        "id": "nEq1vlUqq1m-"
      },
      "execution_count": null,
      "outputs": []
    },
    {
      "cell_type": "code",
      "source": [
        "for rules in association_rules_1:\n",
        "    print(rules)"
      ],
      "metadata": {
        "colab": {
          "base_uri": "https://localhost:8080/"
        },
        "id": "cL8-Uv-2q-mO",
        "outputId": "be902d37-8772-46ed-f3c3-32b47f5c9c62"
      },
      "execution_count": null,
      "outputs": [
        {
          "output_type": "stream",
          "name": "stdout",
          "text": [
            "{'avocado', 'spaghetti'}-->{'milk'} Confidence :0.6451612903225806\n",
            "{'brownies', 'ground beef'}-->{'mineral water'} Confidence :0.625\n",
            "{'soup', 'cake'}-->{'mineral water'} Confidence :0.6\n",
            "{'cereals', 'ground beef'}-->{'spaghetti'} Confidence :0.7142857142857143\n",
            "{'pancakes', 'chicken'}-->{'mineral water'} Confidence :0.5581395348837209\n",
            "{'soup', 'chicken'}-->{'mineral water'} Confidence :0.5517241379310345\n",
            "{'chocolate', 'soup'}-->{'mineral water'} Confidence :0.5869565217391305\n",
            "{'cooking oil', 'eggs'}-->{'mineral water'} Confidence :0.5714285714285714\n",
            "{'cottage cheese', 'spaghetti'}-->{'mineral water'} Confidence :0.5555555555555556\n",
            "{'soup', 'eggs'}-->{'mineral water'} Confidence :0.5581395348837209\n",
            "{'soup', 'frozen vegetables'}-->{'milk'} Confidence :0.5625\n",
            "{'frozen vegetables', 'olive oil'}-->{'mineral water'} Confidence :0.6666666666666666\n",
            "{'frozen vegetables', 'salmon'}-->{'mineral water'} Confidence :0.5806451612903226\n",
            "{'soup', 'frozen vegetables'}-->{'mineral water'} Confidence :0.71875\n",
            "{'frozen vegetables', 'olive oil'}-->{'spaghetti'} Confidence :0.5686274509803921\n",
            "{'whole wheat rice', 'frozen vegetables'}-->{'spaghetti'} Confidence :0.5517241379310345\n",
            "{'ground beef', 'pepper'}-->{'spaghetti'} Confidence :0.7391304347826086\n",
            "{'shrimp', 'ground beef'}-->{'spaghetti'} Confidence :0.6444444444444445\n",
            "{'soup', 'milk'}-->{'mineral water'} Confidence :0.6119402985074627\n",
            "{'turkey', 'milk'}-->{'mineral water'} Confidence :0.5714285714285714\n",
            "{'shrimp', 'olive oil'}-->{'mineral water'} Confidence :0.6\n",
            "{'soup', 'olive oil'}-->{'mineral water'} Confidence :0.625\n",
            "{'olive oil', 'tomatoes'}-->{'mineral water'} Confidence :0.6666666666666666\n",
            "{'soup', 'shrimp'}-->{'mineral water'} Confidence :0.5769230769230769\n",
            "{'soup', 'spaghetti'}-->{'mineral water'} Confidence :0.603448275862069\n",
            "{'soup', 'tomatoes'}-->{'mineral water'} Confidence :0.6071428571428571\n",
            "{'olive oil', 'tomatoes'}-->{'spaghetti'} Confidence :0.6\n",
            "{'chocolate', 'eggs', 'frozen vegetables'}-->{'mineral water'} Confidence :0.625\n",
            "{'chocolate', 'frozen vegetables', 'olive oil'}-->{'mineral water'} Confidence :0.8095238095238095\n",
            "{'chocolate', 'shrimp', 'frozen vegetables'}-->{'mineral water'} Confidence :0.6428571428571429\n",
            "{'chocolate', 'frozen vegetables', 'spaghetti'}-->{'mineral water'} Confidence :0.5882352941176471\n",
            "{'chocolate', 'spaghetti', 'olive oil'}-->{'mineral water'} Confidence :0.6296296296296297\n",
            "{'chocolate', 'shrimp', 'spaghetti'}-->{'mineral water'} Confidence :0.5625\n",
            "{'mineral water', 'milk', 'frozen smoothie'}-->{'spaghetti'} Confidence :0.5555555555555556\n",
            "{'milk', 'spaghetti', 'frozen smoothie'}-->{'mineral water'} Confidence :0.6\n",
            "{'mineral water', 'spaghetti', 'frozen smoothie'}-->{'milk'} Confidence :0.6\n",
            "{'frozen vegetables', 'ground beef', 'milk'}-->{'mineral water'} Confidence :0.72\n",
            "{'frozen vegetables', 'olive oil', 'milk'}-->{'mineral water'} Confidence :0.7142857142857143\n",
            "{'soup', 'frozen vegetables', 'milk'}-->{'mineral water'} Confidence :0.8333333333333334\n",
            "{'mineral water', 'soup', 'frozen vegetables'}-->{'milk'} Confidence :0.6521739130434783\n",
            "{'frozen vegetables', 'spaghetti', 'milk'}-->{'mineral water'} Confidence :0.5789473684210527\n",
            "{'spaghetti', 'frozen vegetables', 'olive oil'}-->{'mineral water'} Confidence :0.5862068965517241\n",
            "{'shrimp', 'frozen vegetables', 'spaghetti'}-->{'mineral water'} Confidence :0.59375\n",
            "{'mineral water', 'frozen vegetables', 'tomatoes'}-->{'spaghetti'} Confidence :0.64\n",
            "{'frozen vegetables', 'spaghetti', 'tomatoes'}-->{'mineral water'} Confidence :0.5517241379310345\n",
            "{'mineral water', 'shrimp', 'ground beef'}-->{'spaghetti'} Confidence :0.6521739130434783\n",
            "{'shrimp', 'milk', 'spaghetti'}-->{'mineral water'} Confidence :0.6923076923076923\n",
            "{'soup', 'milk', 'spaghetti'}-->{'mineral water'} Confidence :0.6666666666666666\n",
            "{'mineral water', 'milk', 'tomatoes'}-->{'spaghetti'} Confidence :0.5588235294117647\n",
            "{'milk', 'spaghetti', 'tomatoes'}-->{'mineral water'} Confidence :0.6333333333333333\n"
          ]
        }
      ]
    },
    {
      "cell_type": "code",
      "source": [
        "for rules in association_rules_2:\n",
        "    print(rules)"
      ],
      "metadata": {
        "colab": {
          "base_uri": "https://localhost:8080/"
        },
        "id": "nJ-XpEo0rS9p",
        "outputId": "631043dd-3b0d-48b0-acf9-f3c9594f0af0"
      },
      "execution_count": null,
      "outputs": [
        {
          "output_type": "stream",
          "name": "stdout",
          "text": [
            "{'cake', 'ground beef'}-->{'mineral water'} Confidence :0.59375\n",
            "{'cake', 'milk'}-->{'mineral water'} Confidence :0.5641025641025641\n",
            "{'chocolate', 'chicken'}-->{'mineral water'} Confidence :0.5609756097560976\n",
            "{'cooking oil', 'ground beef'}-->{'mineral water'} Confidence :0.6\n",
            "{'cooking oil', 'ground beef'}-->{'spaghetti'} Confidence :0.64\n",
            "{'cooking oil', 'pancakes'}-->{'mineral water'} Confidence :0.6666666666666666\n",
            "{'eggs', 'grated cheese'}-->{'mineral water'} Confidence :0.5714285714285714\n",
            "{'eggs', 'red wine'}-->{'spaghetti'} Confidence :0.6153846153846154\n",
            "{'ground beef', 'frozen smoothie'}-->{'mineral water'} Confidence :0.5769230769230769\n",
            "{'frozen vegetables', 'ground beef'}-->{'mineral water'} Confidence :0.5645161290322581\n",
            "{'herb & pepper', 'grated cheese'}-->{'spaghetti'} Confidence :0.5769230769230769\n",
            "{'pancakes', 'grated cheese'}-->{'mineral water'} Confidence :0.5666666666666667\n",
            "{'pancakes', 'ground beef'}-->{'mineral water'} Confidence :0.603448275862069\n",
            "{'soup', 'ground beef'}-->{'mineral water'} Confidence :0.5526315789473685\n",
            "{'herb & pepper', 'pancakes'}-->{'spaghetti'} Confidence :0.5714285714285714\n",
            "{'spaghetti', 'hot dogs'}-->{'mineral water'} Confidence :0.5714285714285714\n",
            "{'whole wheat pasta', 'spaghetti'}-->{'milk'} Confidence :0.6071428571428571\n",
            "{'soup', 'pancakes'}-->{'mineral water'} Confidence :0.7391304347826086\n",
            "{'whole wheat rice', 'pancakes'}-->{'mineral water'} Confidence :0.6428571428571429\n",
            "{'pancakes', 'olive oil'}-->{'spaghetti'} Confidence :0.55\n",
            "{'olive oil', 'tomatoes'}-->{'spaghetti'} Confidence :0.625\n",
            "{'chocolate', 'eggs', 'ground beef'}-->{'mineral water'} Confidence :0.6956521739130435\n",
            "{'chocolate', 'eggs', 'milk'}-->{'mineral water'} Confidence :0.6206896551724138\n",
            "{'french fries', 'ground beef', 'mineral water'}-->{'spaghetti'} Confidence :0.6818181818181818\n",
            "{'french fries', 'spaghetti', 'ground beef'}-->{'mineral water'} Confidence :0.6818181818181818\n",
            "{'frozen vegetables', 'spaghetti', 'ground beef'}-->{'mineral water'} Confidence :0.5588235294117647\n"
          ]
        }
      ]
    },
    {
      "cell_type": "markdown",
      "source": [
        "# minimum support = 0.4%, minimum confidence = 40%"
      ],
      "metadata": {
        "id": "tBgtCdqtZ6Vh"
      }
    },
    {
      "cell_type": "code",
      "source": [
        "min_sup = 0.4\n",
        "L, C, sup_count = apriori(transactions, min_sup)"
      ],
      "metadata": {
        "colab": {
          "base_uri": "https://localhost:8080/"
        },
        "id": "bBsSyuFxWFB3",
        "outputId": "285b692c-310c-471e-e9e7-872875c9c200"
      },
      "execution_count": null,
      "outputs": [
        {
          "output_type": "stream",
          "name": "stdout",
          "text": [
            "C[1] :  [['almonds'], ['antioxydant juice'], ['asparagus'], ['avocado'], ['babies food'], ['bacon'], ['barbecue sauce'], ['black tea'], ['blueberries'], ['body spray'], ['bramble'], ['brownies'], ['bug spray'], ['burger sauce'], ['burgers'], ['butter'], ['cake'], ['candy bars'], ['carrots'], ['cauliflower'], ['cereals'], ['champagne'], ['chicken'], ['chili'], ['chocolate'], ['chocolate bread'], ['chutney'], ['cider'], ['clothes accessories'], ['cookies'], ['cooking oil'], ['corn'], ['cottage cheese'], ['cream'], ['dessert wine'], ['eggplant'], ['eggs'], ['energy bar'], ['energy drink'], ['escalope'], ['extra dark chocolate'], ['flax seed'], ['french fries'], ['french wine'], ['fresh bread'], ['fresh tuna'], ['fromage blanc'], ['frozen smoothie'], ['frozen vegetables'], ['gluten free bar'], ['grated cheese'], ['green beans'], ['green grapes'], ['green tea'], ['ground beef'], ['gums'], ['ham'], ['hand protein bar'], ['herb & pepper'], ['honey'], ['hot dogs'], ['ketchup'], ['light cream'], ['light mayo'], ['low fat yogurt'], ['magazines'], ['mashed potato'], ['mayonnaise'], ['meatballs'], ['melons'], ['milk'], ['mineral water'], ['mint'], ['mint green tea'], ['muffins'], ['mushroom cream sauce'], ['napkins'], ['nonfat milk'], ['oatmeal'], ['oil'], ['olive oil'], ['pancakes'], ['parmesan cheese'], ['pasta'], ['pepper'], ['pet food'], ['pickles'], ['protein bar'], ['red wine'], ['rice'], ['salad'], ['salmon'], ['salt'], ['sandwich'], ['shallot'], ['shampoo'], ['shrimp'], ['soda'], ['soup'], ['spaghetti'], ['sparkling water'], ['spinach'], ['strawberries'], ['strong cheese'], ['tea'], ['tomato juice'], ['tomato sauce'], ['tomatoes'], ['toothpaste'], ['turkey'], ['vegetables mix'], ['water spray'], ['white wine'], ['whole weat flour'], ['whole wheat pasta'], ['whole wheat rice'], ['yams'], ['yogurt cake'], ['zucchini']]\n"
          ]
        }
      ]
    },
    {
      "cell_type": "code",
      "source": [
        "min_conf = 40\n",
        "association_rules = generate_association_rules(L, sup_count, min_conf)"
      ],
      "metadata": {
        "id": "vWXvoykRZ4t7"
      },
      "execution_count": null,
      "outputs": []
    },
    {
      "cell_type": "code",
      "source": [
        "print(\"Minimun support = {a}%, minimum confidence = {b}%\".format(a=min_sup,b=min_conf))\n",
        "print(\"Number of association rules is : \",len(association_rules))\n",
        "for rule in association_rules:\n",
        "    print(rule)"
      ],
      "metadata": {
        "id": "_QmJ6_8iaVvy",
        "outputId": "b55c0e8a-cdd3-4dcb-f5ad-79db5ceb9bb3",
        "colab": {
          "base_uri": "https://localhost:8080/"
        }
      },
      "execution_count": null,
      "outputs": [
        {
          "output_type": "stream",
          "name": "stdout",
          "text": [
            "Minimun support = 0.4%, minimum confidence = 40%\n",
            "Number of association rules is :  136\n",
            "{'cider'}-->{'eggs'} Confidence :0.4050632911392405\n",
            "{'extra dark chocolate'}-->{'mineral water'} Confidence :0.4777777777777778\n",
            "{'ground beef'}-->{'mineral water'} Confidence :0.41655359565807326\n",
            "{'light cream'}-->{'mineral water'} Confidence :0.4700854700854701\n",
            "{'nonfat milk'}-->{'mineral water'} Confidence :0.48717948717948717\n",
            "{'olive oil'}-->{'mineral water'} Confidence :0.4190283400809717\n",
            "{'protein bar'}-->{'mineral water'} Confidence :0.4172661870503597\n",
            "{'rice'}-->{'mineral water'} Confidence :0.41134751773049644\n",
            "{'salmon'}-->{'mineral water'} Confidence :0.4012539184952978\n",
            "{'soup'}-->{'mineral water'} Confidence :0.45646437994722955\n",
            "{'tomato sauce'}-->{'mineral water'} Confidence :0.4056603773584906\n",
            "{'tomato sauce'}-->{'spaghetti'} Confidence :0.44339622641509435\n",
            "{'cake', 'burgers'}-->{'mineral water'} Confidence :0.4186046511627907\n",
            "{'burgers', 'french fries'}-->{'eggs'} Confidence :0.4121212121212121\n",
            "{'burgers', 'frozen vegetables'}-->{'mineral water'} Confidence :0.46835443037974683\n",
            "{'burgers', 'ground beef'}-->{'mineral water'} Confidence :0.4444444444444444\n",
            "{'burgers', 'ground beef'}-->{'spaghetti'} Confidence :0.45555555555555555\n",
            "{'pancakes', 'burgers'}-->{'spaghetti'} Confidence :0.4177215189873418\n",
            "{'cake', 'chocolate'}-->{'mineral water'} Confidence :0.4117647058823529\n",
            "{'cake', 'frozen vegetables'}-->{'mineral water'} Confidence :0.4675324675324675\n",
            "{'cake', 'milk'}-->{'mineral water'} Confidence :0.48\n",
            "{'chicken', 'chocolate'}-->{'mineral water'} Confidence :0.5181818181818182\n",
            "{'chicken', 'ground beef'}-->{'spaghetti'} Confidence :0.5070422535211268\n",
            "{'chicken', 'milk'}-->{'mineral water'} Confidence :0.45045045045045046\n",
            "{'chicken', 'pancakes'}-->{'mineral water'} Confidence :0.5294117647058824\n",
            "{'chicken', 'spaghetti'}-->{'mineral water'} Confidence :0.40310077519379844\n",
            "{'cooking oil', 'chocolate'}-->{'mineral water'} Confidence :0.4215686274509804\n",
            "{'eggs', 'chocolate'}-->{'mineral water'} Confidence :0.40562248995983935\n",
            "{'frozen vegetables', 'chocolate'}-->{'mineral water'} Confidence :0.42441860465116277\n",
            "{'chocolate', 'ground beef'}-->{'mineral water'} Confidence :0.47398843930635837\n",
            "{'milk', 'chocolate'}-->{'mineral water'} Confidence :0.43568464730290457\n",
            "{'olive oil', 'chocolate'}-->{'mineral water'} Confidence :0.5040650406504065\n",
            "{'pancakes', 'chocolate'}-->{'mineral water'} Confidence :0.4697986577181208\n",
            "{'salmon', 'chocolate'}-->{'mineral water'} Confidence :0.425\n",
            "{'shrimp', 'chocolate'}-->{'mineral water'} Confidence :0.4222222222222222\n",
            "{'soup', 'chocolate'}-->{'mineral water'} Confidence :0.5526315789473685\n",
            "{'spaghetti', 'chocolate'}-->{'mineral water'} Confidence :0.40476190476190477\n",
            "{'tomatoes', 'chocolate'}-->{'mineral water'} Confidence :0.4095238095238095\n",
            "{'olive oil', 'chocolate'}-->{'spaghetti'} Confidence :0.43089430894308944\n",
            "{'cooking oil', 'eggs'}-->{'mineral water'} Confidence :0.5454545454545454\n",
            "{'cooking oil', 'ground beef'}-->{'spaghetti'} Confidence :0.5714285714285714\n",
            "{'milk', 'cooking oil'}-->{'mineral water'} Confidence :0.4069767441860465\n",
            "{'pancakes', 'cooking oil'}-->{'mineral water'} Confidence :0.5932203389830508\n",
            "{'cooking oil', 'spaghetti'}-->{'mineral water'} Confidence :0.4789915966386555\n",
            "{'frozen vegetables', 'eggs'}-->{'mineral water'} Confidence :0.4171779141104294\n",
            "{'grated cheese', 'eggs'}-->{'mineral water'} Confidence :0.4852941176470588\n",
            "{'grated cheese', 'eggs'}-->{'spaghetti'} Confidence :0.47058823529411764\n",
            "{'eggs', 'ground beef'}-->{'mineral water'} Confidence :0.5066666666666667\n",
            "{'eggs', 'ground beef'}-->{'spaghetti'} Confidence :0.44666666666666666\n",
            "{'eggs', 'herb & pepper'}-->{'mineral water'} Confidence :0.425531914893617\n",
            "{'milk', 'eggs'}-->{'mineral water'} Confidence :0.42424242424242425\n",
            "{'olive oil', 'eggs'}-->{'mineral water'} Confidence :0.4888888888888889\n",
            "{'soup', 'eggs'}-->{'mineral water'} Confidence :0.5441176470588235\n",
            "{'tomatoes', 'eggs'}-->{'mineral water'} Confidence :0.41304347826086957\n",
            "{'olive oil', 'eggs'}-->{'spaghetti'} Confidence :0.4222222222222222\n",
            "{'french fries', 'ground beef'}-->{'spaghetti'} Confidence :0.40384615384615385\n",
            "{'frozen vegetables', 'frozen smoothie'}-->{'spaghetti'} Confidence :0.41333333333333333\n",
            "{'milk', 'frozen smoothie'}-->{'mineral water'} Confidence :0.42990654205607476\n",
            "{'spaghetti', 'frozen smoothie'}-->{'mineral water'} Confidence :0.4358974358974359\n",
            "{'frozen vegetables', 'ground beef'}-->{'mineral water'} Confidence :0.5433070866141733\n",
            "{'frozen vegetables', 'ground beef'}-->{'spaghetti'} Confidence :0.5118110236220472\n",
            "{'frozen vegetables', 'low fat yogurt'}-->{'mineral water'} Confidence :0.4473684210526316\n",
            "{'milk', 'frozen vegetables'}-->{'mineral water'} Confidence :0.4689265536723164\n",
            "{'frozen vegetables', 'olive oil'}-->{'milk'} Confidence :0.4235294117647059\n",
            "{'frozen vegetables', 'olive oil'}-->{'mineral water'} Confidence :0.5764705882352941\n",
            "{'pancakes', 'frozen vegetables'}-->{'mineral water'} Confidence :0.45544554455445546\n",
            "{'frozen vegetables', 'shrimp'}-->{'mineral water'} Confidence :0.432\n",
            "{'soup', 'frozen vegetables'}-->{'mineral water'} Confidence :0.6333333333333333\n",
            "{'frozen vegetables', 'spaghetti'}-->{'mineral water'} Confidence :0.430622009569378\n",
            "{'frozen vegetables', 'turkey'}-->{'mineral water'} Confidence :0.5\n",
            "{'frozen vegetables', 'whole wheat rice'}-->{'mineral water'} Confidence :0.4852941176470588\n",
            "{'frozen vegetables', 'olive oil'}-->{'spaghetti'} Confidence :0.5058823529411764\n",
            "{'frozen vegetables', 'tomatoes'}-->{'spaghetti'} Confidence :0.4132231404958678\n",
            "{'grated cheese', 'ground beef'}-->{'mineral water'} Confidence :0.4470588235294118\n",
            "{'grated cheese', 'ground beef'}-->{'spaghetti'} Confidence :0.47058823529411764\n",
            "{'green tea', 'ground beef'}-->{'spaghetti'} Confidence :0.43243243243243246\n",
            "{'green tea', 'olive oil'}-->{'mineral water'} Confidence :0.4266666666666667\n",
            "{'green tea', 'olive oil'}-->{'spaghetti'} Confidence :0.4533333333333333\n",
            "{'herb & pepper', 'ground beef'}-->{'mineral water'} Confidence :0.4166666666666667\n",
            "{'herb & pepper', 'ground beef'}-->{'spaghetti'} Confidence :0.4\n",
            "{'low fat yogurt', 'ground beef'}-->{'mineral water'} Confidence :0.5\n",
            "{'milk', 'ground beef'}-->{'mineral water'} Confidence :0.503030303030303\n",
            "{'milk', 'ground beef'}-->{'spaghetti'} Confidence :0.44242424242424244\n",
            "{'olive oil', 'ground beef'}-->{'mineral water'} Confidence :0.4716981132075472\n",
            "{'pancakes', 'ground beef'}-->{'mineral water'} Confidence :0.5137614678899083\n",
            "{'shrimp', 'ground beef'}-->{'mineral water'} Confidence :0.4418604651162791\n",
            "{'soup', 'ground beef'}-->{'mineral water'} Confidence :0.5205479452054794\n",
            "{'mineral water', 'ground beef'}-->{'spaghetti'} Confidence :0.4169381107491857\n",
            "{'spaghetti', 'ground beef'}-->{'mineral water'} Confidence :0.43537414965986393\n",
            "{'tomatoes', 'ground beef'}-->{'mineral water'} Confidence :0.4659090909090909\n",
            "{'olive oil', 'ground beef'}-->{'spaghetti'} Confidence :0.4339622641509434\n",
            "{'pancakes', 'ground beef'}-->{'spaghetti'} Confidence :0.44036697247706424\n",
            "{'shrimp', 'ground beef'}-->{'spaghetti'} Confidence :0.5232558139534884\n",
            "{'tomatoes', 'ground beef'}-->{'spaghetti'} Confidence :0.4772727272727273\n",
            "{'milk', 'herb & pepper'}-->{'mineral water'} Confidence :0.4492753623188406\n",
            "{'pancakes', 'low fat yogurt'}-->{'mineral water'} Confidence :0.4507042253521127\n",
            "{'milk', 'olive oil'}-->{'mineral water'} Confidence :0.5\n",
            "{'milk', 'pancakes'}-->{'mineral water'} Confidence :0.47580645161290325\n",
            "{'milk', 'salmon'}-->{'mineral water'} Confidence :0.4520547945205479\n",
            "{'milk', 'shrimp'}-->{'mineral water'} Confidence :0.44696969696969696\n",
            "{'milk', 'soup'}-->{'mineral water'} Confidence :0.5614035087719298\n",
            "{'milk', 'spaghetti'}-->{'mineral water'} Confidence :0.44360902255639095\n",
            "{'milk', 'tomatoes'}-->{'mineral water'} Confidence :0.4666666666666667\n",
            "{'milk', 'turkey'}-->{'mineral water'} Confidence :0.5411764705882353\n",
            "{'milk', 'whole wheat rice'}-->{'mineral water'} Confidence :0.42696629213483145\n",
            "{'milk', 'olive oil'}-->{'spaghetti'} Confidence :0.421875\n",
            "{'milk', 'tomatoes'}-->{'spaghetti'} Confidence :0.41904761904761906\n",
            "{'milk', 'turkey'}-->{'spaghetti'} Confidence :0.4235294117647059\n",
            "{'pancakes', 'olive oil'}-->{'mineral water'} Confidence :0.43209876543209874\n",
            "{'olive oil', 'shrimp'}-->{'mineral water'} Confidence :0.5573770491803278\n",
            "{'soup', 'olive oil'}-->{'mineral water'} Confidence :0.582089552238806\n",
            "{'olive oil', 'spaghetti'}-->{'mineral water'} Confidence :0.4476744186046512\n",
            "{'olive oil', 'tomatoes'}-->{'mineral water'} Confidence :0.5740740740740741\n",
            "{'pancakes', 'shrimp'}-->{'mineral water'} Confidence :0.43037974683544306\n",
            "{'pancakes', 'soup'}-->{'mineral water'} Confidence :0.6274509803921569\n",
            "{'pancakes', 'spaghetti'}-->{'mineral water'} Confidence :0.455026455026455\n",
            "{'pancakes', 'tomatoes'}-->{'mineral water'} Confidence :0.47297297297297297\n",
            "{'pancakes', 'whole wheat rice'}-->{'mineral water'} Confidence :0.5961538461538461\n",
            "{'salmon', 'spaghetti'}-->{'mineral water'} Confidence :0.504950495049505\n",
            "{'spaghetti', 'shrimp'}-->{'mineral water'} Confidence :0.4025157232704403\n",
            "{'soup', 'spaghetti'}-->{'mineral water'} Confidence :0.5233644859813084\n",
            "{'spaghetti', 'tomatoes'}-->{'mineral water'} Confidence :0.445859872611465\n",
            "{'whole wheat rice', 'spaghetti'}-->{'mineral water'} Confidence :0.44339622641509435\n",
            "{'pancakes', 'olive oil'}-->{'spaghetti'} Confidence :0.4691358024691358\n",
            "{'olive oil', 'tomatoes'}-->{'spaghetti'} Confidence :0.6111111111111112\n",
            "{'milk', 'eggs', 'chocolate'}-->{'mineral water'} Confidence :0.4492753623188406\n",
            "{'eggs', 'spaghetti', 'chocolate'}-->{'mineral water'} Confidence :0.43037974683544306\n",
            "{'frozen vegetables', 'mineral water', 'chocolate'}-->{'spaghetti'} Confidence :0.4246575342465753\n",
            "{'frozen vegetables', 'spaghetti', 'chocolate'}-->{'mineral water'} Confidence :0.5254237288135594\n",
            "{'milk', 'spaghetti', 'chocolate'}-->{'mineral water'} Confidence :0.45121951219512196\n",
            "{'milk', 'spaghetti', 'eggs'}-->{'mineral water'} Confidence :0.4925373134328358\n",
            "{'frozen vegetables', 'mineral water', 'ground beef'}-->{'spaghetti'} Confidence :0.4782608695652174\n",
            "{'frozen vegetables', 'spaghetti', 'ground beef'}-->{'mineral water'} Confidence :0.5076923076923077\n",
            "{'milk', 'frozen vegetables', 'mineral water'}-->{'spaghetti'} Confidence :0.40963855421686746\n",
            "{'milk', 'frozen vegetables', 'spaghetti'}-->{'mineral water'} Confidence :0.5483870967741935\n",
            "{'milk', 'spaghetti', 'ground beef'}-->{'mineral water'} Confidence :0.4520547945205479\n"
          ]
        }
      ]
    },
    {
      "cell_type": "code",
      "source": [
        ""
      ],
      "metadata": {
        "id": "sFYa3LNyaXZk"
      },
      "execution_count": null,
      "outputs": []
    }
  ]
}